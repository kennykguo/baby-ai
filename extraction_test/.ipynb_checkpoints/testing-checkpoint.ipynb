{
 "cells": [
  {
   "cell_type": "code",
   "execution_count": 1,
   "id": "a218ca15-78e6-4a14-946f-5686ec2c67a1",
   "metadata": {},
   "outputs": [],
   "source": [
    "from PyPDF2 import PdfReader \n",
    "import openai"
   ]
  },
  {
   "cell_type": "code",
   "execution_count": 2,
   "id": "936beeaf-fd01-4e1c-b4d3-a7a00500d593",
   "metadata": {
    "scrolled": true
   },
   "outputs": [],
   "source": [
    "# EXTRACT TEXT FROM PDF\n",
    "reader = PdfReader('python_notes.pdf')\n",
    "page = reader.pages[0]\n",
    "text = page.extract_text()"
   ]
  },
  {
   "cell_type": "code",
   "execution_count": 3,
   "id": "bd4d1ae6-8f28-462a-98ac-1865841d350f",
   "metadata": {},
   "outputs": [],
   "source": [
    "num_multiple_choice = 1\n",
    "num_long_answer = 3\n",
    "\n",
    "sys_content = f'''\n",
    "You are a problem set writer. Given a set of class notes, compile a problem set based on the relevant content. \n",
    "The output must be in GFM format so it can be easily exported as a PDF file.\n",
    "Show the problem set at the top, and the solution set at the bottom.\n",
    "The problem set must contain {num_multiple_choice} multiple choice questions and {num_long_answer} long answer questions.\n",
    "'''\n",
    "\n",
    "sys_content_2 = f'''\n",
    "Generate sample problems in GFM + LaTeX format for a PDF export.\n",
    "Include {num_multiple_choice} multiple-choice and {num_long_answer} long-answer questions.\n",
    "Place the problem set at the top, followed by the solution set at the bottom.\n",
    "'''\n",
    "\n",
    "sys_prompt = [{\"role\": \"system\", \"content\": sys_content}]\n",
    "usr_prompt = [{\"role\": \"user\", \"content\": text}]\n",
    "model = \"gpt-3.5-turbo\""
   ]
  },
  {
   "cell_type": "code",
   "execution_count": 4,
   "id": "468af363-9359-43d8-aef0-1c663c0629d3",
   "metadata": {
    "scrolled": true
   },
   "outputs": [
    {
     "name": "stdin",
     "output_type": "stream",
     "text": [
      "Proceed? y / n n\n"
     ]
    }
   ],
   "source": [
    "openai.api_key = ''\n",
    "\n",
    "proceed = input(\"Proceed? y / n\")\n",
    "if proceed == 'y':\n",
    "    response = openai.ChatCompletion.create(\n",
    "        model = model,\n",
    "        messages = sys_prompt + usr_prompt\n",
    "    )\n",
    "    \n",
    "    print(\"Done!\")"
   ]
  },
  {
   "cell_type": "code",
   "execution_count": 5,
   "id": "c45ac5f0-e16b-4692-9b0b-02db138b42b7",
   "metadata": {},
   "outputs": [
    {
     "ename": "NameError",
     "evalue": "name 'response' is not defined",
     "output_type": "error",
     "traceback": [
      "\u001b[0;31m---------------------------------------------------------------------------\u001b[0m",
      "\u001b[0;31mNameError\u001b[0m                                 Traceback (most recent call last)",
      "\u001b[0;32m/tmp/ipykernel_12319/2655978740.py\u001b[0m in \u001b[0;36m<module>\u001b[0;34m\u001b[0m\n\u001b[1;32m      1\u001b[0m \u001b[0;32mwith\u001b[0m \u001b[0mopen\u001b[0m\u001b[0;34m(\u001b[0m\u001b[0;34m\"test.md\"\u001b[0m\u001b[0;34m,\u001b[0m \u001b[0;34m\"w\"\u001b[0m\u001b[0;34m)\u001b[0m \u001b[0;32mas\u001b[0m \u001b[0mmdfile\u001b[0m\u001b[0;34m:\u001b[0m\u001b[0;34m\u001b[0m\u001b[0;34m\u001b[0m\u001b[0m\n\u001b[0;32m----> 2\u001b[0;31m     \u001b[0mmdfile\u001b[0m\u001b[0;34m.\u001b[0m\u001b[0mwrite\u001b[0m\u001b[0;34m(\u001b[0m\u001b[0mresponse\u001b[0m\u001b[0;34m[\u001b[0m\u001b[0;34m'choices'\u001b[0m\u001b[0;34m]\u001b[0m\u001b[0;34m[\u001b[0m\u001b[0;36m0\u001b[0m\u001b[0;34m]\u001b[0m\u001b[0;34m[\u001b[0m\u001b[0;34m'message'\u001b[0m\u001b[0;34m]\u001b[0m\u001b[0;34m[\u001b[0m\u001b[0;34m'content'\u001b[0m\u001b[0;34m]\u001b[0m\u001b[0;34m)\u001b[0m\u001b[0;34m\u001b[0m\u001b[0;34m\u001b[0m\u001b[0m\n\u001b[0m",
      "\u001b[0;31mNameError\u001b[0m: name 'response' is not defined"
     ]
    }
   ],
   "source": [
    "with open(\"test.md\", \"w\") as mdfile:\n",
    "    mdfile.write(response['choices'][0]['message']['content'])"
   ]
  },
  {
   "cell_type": "code",
   "execution_count": null,
   "id": "95e075ab-b2b4-46be-b047-c23997a43e4b",
   "metadata": {},
   "outputs": [],
   "source": [
    "!pandoc --from=gfm --to=pdf -o test.pdf test.md"
   ]
  },
  {
   "cell_type": "code",
   "execution_count": null,
   "id": "e258df07-06f4-4112-87c8-0a5fb247f3b3",
   "metadata": {},
   "outputs": [],
   "source": []
  }
 ],
 "metadata": {
  "kernelspec": {
   "display_name": "Python 3 (ipykernel)",
   "language": "python",
   "name": "python3"
  },
  "language_info": {
   "codemirror_mode": {
    "name": "ipython",
    "version": 3
   },
   "file_extension": ".py",
   "mimetype": "text/x-python",
   "name": "python",
   "nbconvert_exporter": "python",
   "pygments_lexer": "ipython3",
   "version": "3.10.12"
  }
 },
 "nbformat": 4,
 "nbformat_minor": 5
}
