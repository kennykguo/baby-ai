{
 "cells": [
  {
   "cell_type": "code",
   "execution_count": 1,
   "id": "a218ca15-78e6-4a14-946f-5686ec2c67a1",
   "metadata": {},
   "outputs": [],
   "source": [
    "from PyPDF2 import PdfReader \n",
    "import openai\n",
    "from dotenv import load_dotenv\n",
    "import os"
   ]
  },
  {
   "cell_type": "code",
   "execution_count": 2,
   "id": "936beeaf-fd01-4e1c-b4d3-a7a00500d593",
   "metadata": {
    "scrolled": true
   },
   "outputs": [],
   "source": [
    "# EXTRACT TEXT FROM PDF\n",
    "reader = PdfReader('python_notes.pdf')\n",
    "page = reader.pages[-1]\n",
    "text = page.extract_text()"
   ]
  },
  {
   "cell_type": "code",
   "execution_count": 3,
   "id": "9c21bebc-7d71-40da-a4a6-97a702d905ff",
   "metadata": {},
   "outputs": [],
   "source": [
    "load_dotenv()\n",
    "OPEN_AI_API_KEY = os.getenv(\"OPEN_AI_API_KEY\")"
   ]
  },
  {
   "cell_type": "code",
   "execution_count": 4,
   "id": "bd4d1ae6-8f28-462a-98ac-1865841d350f",
   "metadata": {},
   "outputs": [],
   "source": [
    "num_multiple_choice = 2\n",
    "num_long_answer = 3\n",
    "\n",
    "sys_content = f'''\n",
    "You are a problem set writer. Given a set of class notes, compile a problem set based on the relevant content. \n",
    "The output must be in GFM format so it can be easily exported as a PDF file. \n",
    "The conversion will happen through Pandoc, ensure no text overflows.\n",
    "Show the problem set at the top, and the solution set at the bottom.\n",
    "The problem set must contain {num_multiple_choice} multiple choice questions and {num_long_answer} long answer questions.\n",
    "'''\n",
    "\n",
    "sys_prompt = [{\"role\": \"system\", \"content\": sys_content}]\n",
    "usr_prompt = [{\"role\": \"user\", \"content\": text}]\n",
    "model = \"gpt-3.5-turbo\""
   ]
  },
  {
   "cell_type": "code",
   "execution_count": 5,
   "id": "468af363-9359-43d8-aef0-1c663c0629d3",
   "metadata": {
    "scrolled": true
   },
   "outputs": [
    {
     "name": "stdin",
     "output_type": "stream",
     "text": [
      "Proceed? y / n y\n"
     ]
    },
    {
     "name": "stdout",
     "output_type": "stream",
     "text": [
      "Done!\n"
     ]
    }
   ],
   "source": [
    "openai.api_key = OPEN_AI_API_KEY\n",
    "\n",
    "proceed = input(\"Proceed? y / n\")\n",
    "if proceed == 'y':\n",
    "    response = openai.ChatCompletion.create(\n",
    "        model = model,\n",
    "        messages = sys_prompt + usr_prompt\n",
    "    )\n",
    "    \n",
    "    print(\"Done!\")"
   ]
  },
  {
   "cell_type": "code",
   "execution_count": 6,
   "id": "c45ac5f0-e16b-4692-9b0b-02db138b42b7",
   "metadata": {},
   "outputs": [],
   "source": [
    "with open(\"python_notes_end_pset.md\", \"w\") as mdfile:\n",
    "    mdfile.write(response['choices'][0]['message']['content'])"
   ]
  },
  {
   "cell_type": "code",
   "execution_count": 9,
   "id": "95e075ab-b2b4-46be-b047-c23997a43e4b",
   "metadata": {},
   "outputs": [],
   "source": [
    "!pandoc --from=gfm --to=pdf -o python_notes_end_pset.pdf python_notes_end_pset.md"
   ]
  },
  {
   "cell_type": "code",
   "execution_count": 10,
   "id": "17367d0d-1a9f-404b-a38a-2dbe7f7298af",
   "metadata": {},
   "outputs": [
    {
     "name": "stdout",
     "output_type": "stream",
     "text": [
      "# Problem Set\n",
      "\n",
      "1. What is the purpose of decorators in Python?\n",
      "\n",
      "   a. They are used to create property managers for class attributes.\n",
      "   \n",
      "   b. They add functionality to classes consistent with the Python language.\n",
      "   \n",
      "   c. They transform existing code for better readability.\n",
      "   \n",
      "   d. All of the above.\n",
      "   \n",
      "2. Which magic method is used to provide a human readable string representation of a class?\n",
      "\n",
      "   a. `__init__`\n",
      "   \n",
      "   b. `__str__`\n",
      "   \n",
      "   c. `__eq__`\n",
      "   \n",
      "   d. `__repr__`\n",
      "\n",
      "3. Explain the purpose of the `property` function in Python and how it can be used to create getter and setter methods for class attributes.\n",
      "\n",
      "4. List at least 3 magic methods in Python and briefly explain what they are used for.\n",
      "\n",
      "5. Describe the concept of inheritance in Python and provide an example of multiple inheritance.\n",
      "\n",
      "# Solution Set\n",
      "\n",
      "1. Answer: d. All of the above.\n",
      "\n",
      "2. Answer: b. `__str__`\n",
      "\n",
      "3. The `property` function in Python is used to create a property manager for class attributes. It allows us to define getter and setter methods for accessing and modifying the attribute. The getter method is decorated with `@property`, the setter method with `@<attribute>.setter`, and the deleter method (optional) with `@<attribute>.deleter`. This provides a more intuitive way of working with class attributes and allows for additional logic to be executed when accessing or modifying the attribute.\n",
      "\n",
      "4. - `__init__`: This magic method is used as a constructor and is called when a new instance of a class is created.\n",
      "   - `__str__`: This magic method is used to provide a human readable string representation of a class and is called by the `str()` function.\n",
      "   - `__eq__`: This magic method is used to define the behavior of the equality operator (==) for instances of a class.\n",
      "\n",
      "5. Inheritance in Python allows a class (derived class) to inherit attributes and behaviors from another class (base class). It promotes code reuse and allows for the creation of more specialized classes. Multiple inheritance refers to a situation where a derived class has more than one base class. This allows the derived class to inherit attributes and behaviors from multiple classes. For example:\n",
      "\n",
      "   ```python\n",
      "   class BaseClass1:\n",
      "       def method1(self):\n",
      "           # code for method1\n",
      "   \n",
      "   class BaseClass2:\n",
      "       def method2(self):\n",
      "           # code for method2\n",
      "   \n",
      "   class DerivedClass(BaseClass1, BaseClass2):\n",
      "       def method3(self):\n",
      "           # code for method3\n",
      "   ```\n",
      "\n",
      "   In this example, `DerivedClass` inherits `method1` from `BaseClass1` and `method2` from `BaseClass2`. `DerivedClass` can also define its own methods, such as `method3`."
     ]
    }
   ],
   "source": [
    "!cat python_notes_end_pset.md"
   ]
  },
  {
   "cell_type": "code",
   "execution_count": null,
   "id": "bab93d5e-c983-4b34-b357-2980866723e8",
   "metadata": {},
   "outputs": [],
   "source": []
  }
 ],
 "metadata": {
  "kernelspec": {
   "display_name": "Python 3 (ipykernel)",
   "language": "python",
   "name": "python3"
  },
  "language_info": {
   "codemirror_mode": {
    "name": "ipython",
    "version": 3
   },
   "file_extension": ".py",
   "mimetype": "text/x-python",
   "name": "python",
   "nbconvert_exporter": "python",
   "pygments_lexer": "ipython3",
   "version": "3.10.12"
  }
 },
 "nbformat": 4,
 "nbformat_minor": 5
}
