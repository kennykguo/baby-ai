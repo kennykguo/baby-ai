{
 "cells": [
  {
   "cell_type": "code",
   "execution_count": 1,
   "id": "a218ca15-78e6-4a14-946f-5686ec2c67a1",
   "metadata": {},
   "outputs": [],
   "source": [
    "from PyPDF2 import PdfReader \n",
    "import openai\n",
    "from dotenv import load_dotenv\n",
    "import os"
   ]
  },
  {
   "cell_type": "code",
   "execution_count": 2,
   "id": "936beeaf-fd01-4e1c-b4d3-a7a00500d593",
   "metadata": {
    "scrolled": true
   },
   "outputs": [],
   "source": [
    "# EXTRACT TEXT FROM PDF\n",
    "reader = PdfReader('SoS-CheatSheet.pdf')\n",
    "page = reader.pages[0]\n",
    "text = page.extract_text()\n",
    "\n",
    "# text = ''\n",
    "# for page in reader.pages:\n",
    "#    text += page.extract_text()"
   ]
  },
  {
   "cell_type": "code",
   "execution_count": 3,
   "id": "9c21bebc-7d71-40da-a4a6-97a702d905ff",
   "metadata": {},
   "outputs": [],
   "source": [
    "load_dotenv()\n",
    "OPEN_AI_API_KEY = os.getenv(\"OPEN_AI_API_KEY\")"
   ]
  },
  {
   "cell_type": "code",
   "execution_count": 4,
   "id": "bd4d1ae6-8f28-462a-98ac-1865841d350f",
   "metadata": {},
   "outputs": [],
   "source": [
    "num_multiple_choice = 2\n",
    "num_long_answer = 3\n",
    "\n",
    "sys_content = f'''\n",
    "You are a problem set writer. Given a set of class notes, compile a problem set based on the relevant content. \n",
    "The output must be in GFM format so it can be easily exported as a PDF file. \n",
    "The conversion will happen through Pandoc, ensure no text overflows.\n",
    "Show the problem set at the top, and the solution set at the bottom.\n",
    "The problem set must contain {num_multiple_choice} multiple choice questions and {num_long_answer} long answer questions.\n",
    "'''\n",
    "\n",
    "sys_prompt = [{\"role\": \"system\", \"content\": sys_content}]\n",
    "usr_prompt = [{\"role\": \"user\", \"content\": text}]\n",
    "model = \"gpt-3.5-turbo\""
   ]
  },
  {
   "cell_type": "code",
   "execution_count": 5,
   "id": "468af363-9359-43d8-aef0-1c663c0629d3",
   "metadata": {
    "scrolled": true
   },
   "outputs": [
    {
     "name": "stdin",
     "output_type": "stream",
     "text": [
      "Proceed? y / n y\n"
     ]
    },
    {
     "name": "stdout",
     "output_type": "stream",
     "text": [
      "Done!\n"
     ]
    }
   ],
   "source": [
    "openai.api_key = OPEN_AI_API_KEY\n",
    "\n",
    "proceed = input(\"Proceed? y / n\")\n",
    "if proceed == 'y':\n",
    "    response = openai.ChatCompletion.create(\n",
    "        model = model,\n",
    "        messages = sys_prompt + usr_prompt\n",
    "    )\n",
    "    \n",
    "    print(\"Done!\")"
   ]
  },
  {
   "cell_type": "code",
   "execution_count": 6,
   "id": "c45ac5f0-e16b-4692-9b0b-02db138b42b7",
   "metadata": {},
   "outputs": [],
   "source": [
    "!touch SoS-CheatSheet_pset.md\n",
    "with open(\"SoS-CheatSheet_pset.md\", \"w\") as mdfile:\n",
    "    mdfile.write(response['choices'][0]['message']['content'])"
   ]
  },
  {
   "cell_type": "code",
   "execution_count": 7,
   "id": "95e075ab-b2b4-46be-b047-c23997a43e4b",
   "metadata": {},
   "outputs": [],
   "source": [
    "!pandoc --pdf-engine=xelatex --from=gfm --to=pdf -o SoS-CheatSheet_pset.pdf SoS-CheatSheet_pset.md"
   ]
  },
  {
   "cell_type": "code",
   "execution_count": null,
   "id": "0a8ff098-b1eb-4152-9193-c1170978a961",
   "metadata": {},
   "outputs": [],
   "source": []
  }
 ],
 "metadata": {
  "kernelspec": {
   "display_name": "Python 3 (ipykernel)",
   "language": "python",
   "name": "python3"
  },
  "language_info": {
   "codemirror_mode": {
    "name": "ipython",
    "version": 3
   },
   "file_extension": ".py",
   "mimetype": "text/x-python",
   "name": "python",
   "nbconvert_exporter": "python",
   "pygments_lexer": "ipython3",
   "version": "3.10.12"
  }
 },
 "nbformat": 4,
 "nbformat_minor": 5
}
